{
 "cells": [
  {
   "cell_type": "markdown",
   "metadata": {},
   "source": [
    "### Tablas de continencia\n",
    "\n",
    "**Ejercicio 5**: Un artículo en la New England Journal of Medicine, informó sobre un estudio de fumadores en California y Hawái. En una parte del informe se indicaba el origen étnico autodeclarado y la cantidad de cigarrillos por día. De las personas que fumaban como máximo diez cigarrillos al día, había 9886 afroamericanos, 2745 nativos de Hawái, 12831 latinos, 8378 japoneses americanos y 7650 blancos. De las personas que fumaban entre 11 y 20 cigarrillos al día, había 6514 afroamericanos, 3062 nativos de Hawái, 4932 latinos, 10680 japoneses americanos y 9877 blancos. De las personas que fumaban entre 21 y 30 cigarrillos al día, había 1671 afroamericanos, 1419 nativos de Hawái, 1406 latinos, 4715 japoneses americanos y 6062 blancos. De las personas que fumaban al menos 31 cigarrillos al día, había 759 afroamericanos, 788 nativos de Hawái, 800 latinos, 2305 japoneses americanos y 3970 blancos.\n",
    "1. Rellene la siguiente tabla con los datos previamente proporcionados:\n",
    "   \n",
    "   | Nivel de fumadores | Afroamericanos |Nativos de Hawái| Latinos |Japoneses |Blancos| TOTALES|\n",
    "   |---|---|---|---|---|---|---|\n",
    "   |1 - 10|||||||\n",
    "   |11 - 20|||||||\n",
    "   |21 - 30|||||||\n",
    "   |31 ó mas|||||||\n",
    "   |TOTALES|||||||\n",
    "\n",
    "2. Suponiendo que se selecciona al azar una persona del estudio. Calcule la probabilidad de que la persona haya fumado de 11 a 20 cigarrillos al día. (**Rta**:  35065/100450)\n",
    "3. Calcule la probabilidad de que la persona sea latina.\n",
    "4. En palabras, explique qué significa elegir una persona del estudio que sea \"japonés americano **Y** que fume de 21 a 30 cigarrillos al día\". Además, encuentra la probabilidad (**Rta**:  4715/100450)\n",
    "5. En palabras, explique qué significa elegir una persona del estudio que sea \"japonesa-americana **O** que fume de 21 a 30 cigarrillos al día. Además, encuentra la probabilidad.\n",
    "6. En palabras, explique qué significa elegir una persona del estudio que sea \"japonesa-americana, dado que esa persona fuma de 21 a 30 cigarrillos al día. Además, encuentra la probabilidad. (**Rta**:  4715/15273),\n",
    "7. Demostrar que el hábito de fumar/día y la etnia son eventos dependientes."
   ]
  },
  {
   "cell_type": "code",
   "execution_count": null,
   "metadata": {
    "vscode": {
     "languageId": "plaintext"
    }
   },
   "outputs": [],
   "source": [
    "import numpy as np\n",
    "\n",
    "# Datos proporcionados\n",
    "data = np.array([\n",
    "    [9886, 2745, 12831, 8378, 7650],\n",
    "    [6514, 3062, 4932, 10680, 9877],\n",
    "    [1671, 1419, 1406, 4715, 6062],\n",
    "    [759, 788, 800, 2305, 3970]\n",
    "])\n",
    "\n",
    "# Totales por nivel de fumadores\n",
    "total_smokers = np.sum(data, axis=1)\n",
    "\n",
    "# Totales por etnia\n",
    "total_ethnicity = np.sum(data, axis=0)\n",
    "\n",
    "# Total general\n",
    "total_general = np.sum(data)\n",
    "\n",
    "# Probabilidad de fumar de 11 a 20 cigarrillos al día\n",
    "prob_11_20 = np.sum(data[1, :]) / total_general\n",
    "\n",
    "# Probabilidad de ser latina\n",
    "prob_latino = np.sum(data[:, 2]) / total_general\n",
    "\n",
    "# Probabilidad de ser japonés americano y fumar de 21 a 30 cigarrillos al día\n",
    "prob_japanese_and_21_30 = data[2, 3] / total_general\n",
    "\n",
    "# Probabilidad de ser japonés americano o fumar de 21 a 30 cigarrillos al día\n",
    "prob_japanese_or_21_30 = (np.sum(data[:, 3]) + np.sum(data[2, :]) - data[2, 3]) / total_general\n",
    "\n",
    "# Probabilidad de ser japonés americano dado que fuma de 21 a 30 cigarrillos al día\n",
    "prob_japanese_given_21_30 = data[2, 3] / total_smokers[2]\n",
    "\n",
    "# Imprimir resultados\n",
    "print(f\"Probabilidad de fumar de 11 a 20 cigarrillos al día: {prob_11_20}\")\n",
    "print(f\"Probabilidad de ser latina: {prob_latino}\")\n",
    "print(f\"Probabilidad de ser japonés americano y fumar de 21 a 30 cigarrillos al día: {prob_japanese_and_21_30}\")\n",
    "print(f\"Probabilidad de ser japonés americano o fumar de 21 a 30 cigarrillos al día: {prob_japanese_or_21_30}\")\n",
    "print(f\"Probabilidad de ser japonés americano dado que fuma de 21 a 30 cigarrillos al día: {prob_japanese_given_21_30}\")"
   ]
  }
 ],
 "metadata": {
  "language_info": {
   "name": "python"
  },
  "orig_nbformat": 4
 },
 "nbformat": 4,
 "nbformat_minor": 2
}
