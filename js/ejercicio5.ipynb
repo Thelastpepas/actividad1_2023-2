{
 "cells": [
  {
   "cell_type": "markdown",
   "metadata": {},
   "source": [
    "### Tablas de continencia\n",
    "\n",
    "**Ejercicio 5**: Un artículo en la New England Journal of Medicine, informó sobre un estudio de fumadores en California y Hawái. En una parte del informe se indicaba el origen étnico autodeclarado y la cantidad de cigarrillos por día. De las personas que fumaban como máximo diez cigarrillos al día, había 9886 afroamericanos, 2745 nativos de Hawái, 12831 latinos, 8378 japoneses americanos y 7650 blancos. De las personas que fumaban entre 11 y 20 cigarrillos al día, había 6514 afroamericanos, 3062 nativos de Hawái, 4932 latinos, 10680 japoneses americanos y 9877 blancos. De las personas que fumaban entre 21 y 30 cigarrillos al día, había 1671 afroamericanos, 1419 nativos de Hawái, 1406 latinos, 4715 japoneses americanos y 6062 blancos. De las personas que fumaban al menos 31 cigarrillos al día, había 759 afroamericanos, 788 nativos de Hawái, 800 latinos, 2305 japoneses americanos y 3970 blancos.\n",
    "1. Rellene la siguiente tabla con los datos previamente proporcionados:\n",
    "   \n",
    "   | Nivel de fumadores | Afroamericanos |Nativos de Hawái| Latinos |Japoneses |Blancos| TOTALES|\n",
    "   |---|---|---|---|---|---|---|\n",
    "   |1 - 10|||||||\n",
    "   |11 - 20|||||||\n",
    "   |21 - 30|||||||\n",
    "   |31 ó mas|||||||\n",
    "   |TOTALES|||||||\n",
    "\n",
    "2. Suponiendo que se selecciona al azar una persona del estudio. Calcule la probabilidad de que la persona haya fumado de 11 a 20 cigarrillos al día. (**Rta**:  35065/100450)\n",
    "3. Calcule la probabilidad de que la persona sea latina.\n",
    "4. En palabras, explique qué significa elegir una persona del estudio que sea \"japonés americano **Y** que fume de 21 a 30 cigarrillos al día\". Además, encuentra la probabilidad (**Rta**:  4715/100450)\n",
    "5. En palabras, explique qué significa elegir una persona del estudio que sea \"japonesa-americana **O** que fume de 21 a 30 cigarrillos al día. Además, encuentra la probabilidad.\n",
    "6. En palabras, explique qué significa elegir una persona del estudio que sea \"japonesa-americana, dado que esa persona fuma de 21 a 30 cigarrillos al día. Además, encuentra la probabilidad. (**Rta**:  4715/15273),\n",
    "7. Demostrar que el hábito de fumar/día y la etnia son eventos dependientes."
   ]
  },
  {
   "cell_type": "markdown",
   "metadata": {},
   "source": []
  }
 ],
 "metadata": {
  "language_info": {
   "name": "python"
  },
  "orig_nbformat": 4
 },
 "nbformat": 4,
 "nbformat_minor": 2
}
