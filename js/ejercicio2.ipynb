{
 "cells": [
  {
   "cell_type": "markdown",
   "metadata": {},
   "source": [
    "**Ejercicio 2 - Riesgos médicos**: Los riñones de Morris están fallando y está esperando un trasplante de riñón. Su médico le da esta información para pacientes en su condición: el 90% sobrevive al trasplante y el 10% muere. El trasplante tiene éxito en el 60% de los que sobreviven, y el otro 40% debe volver a la diálisis renal. Las proporciones que sobreviven cinco años son 70% para aquellos con un riñón nuevo y 50% para aquellos que regresan a la diálisis.\n",
    "1. Determine cada uno de los eventos de manera clara.\n",
    "2. Realizar el diagrama de arbol donde se represente este problema de manera clara.\n",
    "3. Encuentre la probabilidad de que Morris viva por cinco años (**Rta**: 0.558)."
   ]
  },
  {
   "cell_type": "markdown",
   "metadata": {},
   "source": []
  },
  {
   "cell_type": "code",
   "execution_count": null,
   "metadata": {
    "vscode": {
     "languageId": "plaintext"
    }
   },
   "outputs": [],
   "source": []
  }
 ],
 "metadata": {
  "kernelspec": {
   "display_name": "Python 3",
   "language": "python",
   "name": "python3"
  },
  "language_info": {
   "codemirror_mode": {
    "name": "ipython",
    "version": 3
   },
   "file_extension": ".py",
   "mimetype": "text/x-python",
   "name": "python",
   "nbconvert_exporter": "python",
   "pygments_lexer": "ipython3",
   "version": "3.10.8"
  },
  "orig_nbformat": 4
 },
 "nbformat": 4,
 "nbformat_minor": 2
}
