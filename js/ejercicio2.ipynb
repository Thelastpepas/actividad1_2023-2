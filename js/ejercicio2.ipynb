{
 "cells": [
  {
   "cell_type": "markdown",
   "metadata": {},
   "source": [
    "**Ejercicio 2 - Riesgos médicos**: Los riñones de Morris están fallando y está esperando un trasplante de riñón. Su médico le da esta información para pacientes en su condición: el 90% sobrevive al trasplante y el 10% muere. El trasplante tiene éxito en el 60% de los que sobreviven, y el otro 40% debe volver a la diálisis renal. Las proporciones que sobreviven cinco años son 70% para aquellos con un riñón nuevo y 50% para aquellos que regresan a la diálisis.\n",
    "1. Determine cada uno de los eventos de manera clara.\n",
    "2. Realizar el diagrama de arbol donde se represente este problema de manera clara.\n",
    "3. Encuentre la probabilidad de que Morris viva por cinco años (**Rta**: 0.558)."
   ]
  },
  {
   "cell_type": "code",
   "execution_count": null,
   "metadata": {
    "vscode": {
     "languageId": "plaintext"
    }
   },
   "outputs": [],
   "source": [
    "import numpy as np\n",
    "import matplotlib.pyplot as plt\n",
    "\n",
    "# Definir las probabilidades\n",
    "P_A = 0.90  # Probabilidad de sobrevivir al trasplante\n",
    "P_B_given_A = 0.60  # Probabilidad de éxito del trasplante dado que se sobrevive\n",
    "P_C_given_A = 0.40  # Probabilidad de volver a la diálisis dado que se sobrevive\n",
    "P_D_given_B = 0.70  # Probabilidad de sobrevivir 5 años después del trasplante\n",
    "P_E_given_C = 0.50  # Probabilidad de sobrevivir 5 años después de volver a la diálisis\n",
    "\n",
    "# Calcular la probabilidad de sobrevivir 5 años\n",
    "P_survive_5_years = (\n",
    "    P_A * P_B_given_A * P_D_given_B + P_A * P_C_given_A * P_E_given_C\n",
    ")\n",
    "\n",
    "# Crear el diagrama de árbol\n",
    "fig, ax = plt.subplots(figsize=(8, 6))\n",
    "ax.axis('off')  # Ocultar ejes\n",
    "\n",
    "# Nodos y conexiones\n",
    "ax.annotate('A: Sobrevivir al trasplante', xy=(0.5, 0.9), ha='center')\n",
    "ax.annotate('B: Éxito del trasplante', xy=(0.2, 0.7), ha='center')\n",
    "ax.annotate('C: Volver a diálisis renal', xy=(0.8, 0.7), ha='center')\n",
    "ax.annotate('D: Sobrevivir 5 años', xy=(0.1, 0.5), ha='center')\n",
    "ax.annotate('E: Sobrevivir 5 años', xy=(0.9, 0.5), ha='center')\n",
    "\n",
    "ax.plot([0.5, 0.2], [0.84, 0.72], '-k', lw=1)  # A -> B\n",
    "ax.plot([0.5, 0.8], [0.84, 0.72], '-k', lw=1)  # A -> C\n",
    "ax.plot([0.2, 0.1], [0.64, 0.52], '-k', lw=1)  # B -> D\n",
    "ax.plot([0.8, 0.9], [0.64, 0.52], '-k', lw=1)  # C -> E\n",
    "\n",
    "# Probabilidades en los nodos\n",
    "ax.text(0.5, 0.78, f'P(A) = {P_A}', ha='center')\n",
    "ax.text(0.2, 0.56, f'P(B|A) = {P_B_given_A}', ha='center')\n",
    "ax.text(0.8, 0.56, f'P(C|A) = {P_C_given_A}', ha='center')\n",
    "ax.text(0.1, 0.34, f'P(D|B) = {P_D_given_B}', ha='center')\n",
    "ax.text(0.9, 0.34, f'P(E|C) = {P_E_given_C}', ha='center')\n",
    "\n",
    "# Mostrar resultado\n",
    "ax.text(0.5, 0.2, f'P(Sobrevivir 5 años) = {P_survive_5_years:.3f}', ha='center')\n",
    "\n",
    "plt.show()"
   ]
  }
 ],
 "metadata": {
  "kernelspec": {
   "display_name": "Python 3",
   "language": "python",
   "name": "python3"
  },
  "language_info": {
   "codemirror_mode": {
    "name": "ipython",
    "version": 3
   },
   "file_extension": ".py",
   "mimetype": "text/x-python",
   "name": "python",
   "nbconvert_exporter": "python",
   "pygments_lexer": "ipython3",
   "version": "3.10.8"
  },
  "orig_nbformat": 4
 },
 "nbformat": 4,
 "nbformat_minor": 2
}
